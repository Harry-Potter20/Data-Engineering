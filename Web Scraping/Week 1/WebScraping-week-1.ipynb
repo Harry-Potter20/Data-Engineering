{
 "cells": [
  {
   "cell_type": "code",
   "execution_count": 1,
   "id": "87aac1f3-2407-457f-83cf-96376f202a83",
   "metadata": {},
   "outputs": [],
   "source": [
    "# Import required packages\n",
    "import requests\n",
    "from bs4 import BeautifulSoup"
   ]
  },
  {
   "cell_type": "code",
   "execution_count": 9,
   "id": "12e1b52e-d252-40b4-8ebb-3c7724b8b0ca",
   "metadata": {},
   "outputs": [],
   "source": [
    "# Store ling in url variable and create instance of requests method\n",
    "url = \"https://en.wikipedia.org/wiki/Luxembourg\"\n",
    "response = requests.get(url)\n",
    "\n",
    "# Time to soup!\n",
    "soup = BeautifulSoup(response.text, 'html.parser')"
   ]
  },
  {
   "cell_type": "code",
   "execution_count": 23,
   "id": "0a5a271c-592c-43dd-948a-9a53513b400f",
   "metadata": {},
   "outputs": [
    {
     "name": "stdout",
     "output_type": "stream",
     "text": [
      "<title>Luxembourg - Wikipedia</title>\n"
     ]
    }
   ],
   "source": [
    "country = soup.find('title')\n",
    "print(country)"
   ]
  },
  {
   "cell_type": "code",
   "execution_count": 37,
   "id": "ad86aed7-dca0-469e-9703-a31551c51801",
   "metadata": {},
   "outputs": [
    {
     "name": "stdout",
     "output_type": "stream",
     "text": [
      "[<span class=\"vector-dropdown-label-text\">Main menu</span>, <span class=\"vector-dropdown-label-text\">Appearance</span>, <span class=\"vector-dropdown-label-text\">Personal tools</span>, <span class=\"vector-dropdown-label-text\">Toggle the table of contents</span>, <span class=\"vector-dropdown-label-text\">272 languages</span>, <span class=\"vector-dropdown-label-text\">English</span>, <span class=\"vector-dropdown-label-text\">Tools</span>]\n"
     ]
    }
   ],
   "source": [
    "result = soup.find_all('span', class_='vector-dropdown-label-text')\n",
    "print(result)"
   ]
  },
  {
   "cell_type": "code",
   "execution_count": 45,
   "id": "06fa19c0-ffff-4fe0-8a97-93dec1697e7c",
   "metadata": {},
   "outputs": [
    {
     "name": "stderr",
     "output_type": "stream",
     "text": [
      "IOPub data rate exceeded.\n",
      "The Jupyter server will temporarily stop sending output\n",
      "to the client in order to avoid crashing it.\n",
      "To change this limit, set the config variable\n",
      "`--ServerApp.iopub_data_rate_limit`.\n",
      "\n",
      "Current values:\n",
      "ServerApp.iopub_data_rate_limit=1000000.0 (bytes/sec)\n",
      "ServerApp.rate_limit_window=3.0 (secs)\n",
      "\n"
     ]
    }
   ],
   "source": [
    "result = soup.select('div.content')\n",
    "print(result)"
   ]
  },
  {
   "cell_type": "code",
   "execution_count": null,
   "id": "fee676ae-4f55-428e-8ef1-ec8da1bd9369",
   "metadata": {},
   "outputs": [],
   "source": [
    "result = soup.select_one('div.content')\n",
    "print(result)"
   ]
  }
 ],
 "metadata": {
  "kernelspec": {
   "display_name": "Python 3 (ipykernel)",
   "language": "python",
   "name": "python3"
  },
  "language_info": {
   "codemirror_mode": {
    "name": "ipython",
    "version": 3
   },
   "file_extension": ".py",
   "mimetype": "text/x-python",
   "name": "python",
   "nbconvert_exporter": "python",
   "pygments_lexer": "ipython3",
   "version": "3.12.4"
  }
 },
 "nbformat": 4,
 "nbformat_minor": 5
}
